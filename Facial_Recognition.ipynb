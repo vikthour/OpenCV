{
  "nbformat": 4,
  "nbformat_minor": 0,
  "metadata": {
    "colab": {
      "name": "Facial Recognition.ipynb",
      "provenance": [],
      "authorship_tag": "ABX9TyNDcV442IRLkfktZXbWULS3",
      "include_colab_link": true
    },
    "kernelspec": {
      "name": "python3",
      "display_name": "Python 3"
    },
    "language_info": {
      "name": "python"
    }
  },
  "cells": [
    {
      "cell_type": "markdown",
      "metadata": {
        "id": "view-in-github",
        "colab_type": "text"
      },
      "source": [
        "<a href=\"https://colab.research.google.com/github/vikthour/OpenCV/blob/main/Facial_Recognition.ipynb\" target=\"_parent\"><img src=\"https://colab.research.google.com/assets/colab-badge.svg\" alt=\"Open In Colab\"/></a>"
      ]
    },
    {
      "cell_type": "markdown",
      "metadata": {
        "id": "jC9AQHutFq5P"
      },
      "source": [
        "Django Code"
      ]
    },
    {
      "cell_type": "code",
      "metadata": {
        "id": "Ztt8nWuLEBl1"
      },
      "source": [
        "import cv2\n",
        "import numpy as np"
      ],
      "execution_count": null,
      "outputs": []
    },
    {
      "cell_type": "code",
      "metadata": {
        "colab": {
          "base_uri": "https://localhost:8080/",
          "height": 189
        },
        "id": "4yPsfF4TO_RA",
        "outputId": "b08cbe83-ea28-4738-9e83-20a269b63c84"
      },
      "source": [
        "net = cv2.dnn.readNet('yolov3.weights', 'yolov3.cfg')"
      ],
      "execution_count": null,
      "outputs": [
        {
          "output_type": "error",
          "ename": "error",
          "evalue": "ignored",
          "traceback": [
            "\u001b[0;31m---------------------------------------------------------------------------\u001b[0m",
            "\u001b[0;31merror\u001b[0m                                     Traceback (most recent call last)",
            "\u001b[0;32m<ipython-input-2-f5b524cdf90d>\u001b[0m in \u001b[0;36m<module>\u001b[0;34m()\u001b[0m\n\u001b[0;32m----> 1\u001b[0;31m \u001b[0mnet\u001b[0m \u001b[0;34m=\u001b[0m \u001b[0mcv2\u001b[0m\u001b[0;34m.\u001b[0m\u001b[0mdnn\u001b[0m\u001b[0;34m.\u001b[0m\u001b[0mreadNet\u001b[0m\u001b[0;34m(\u001b[0m\u001b[0;34m'yolov3.weights'\u001b[0m\u001b[0;34m,\u001b[0m \u001b[0;34m'yolov3.cfg'\u001b[0m\u001b[0;34m)\u001b[0m\u001b[0;34m\u001b[0m\u001b[0;34m\u001b[0m\u001b[0m\n\u001b[0m",
            "\u001b[0;31merror\u001b[0m: OpenCV(4.1.2) /io/opencv/modules/dnn/src/darknet/darknet_importer.cpp:207: error: (-212:Parsing error) Failed to parse NetParameter file: yolov3.cfg in function 'readNetFromDarknet'\n"
          ]
        }
      ]
    },
    {
      "cell_type": "code",
      "metadata": {
        "id": "a9EE1HPZO_Mt"
      },
      "source": [
        "classes = []\n",
        "with open('coco.names', 'r') as f:\n",
        "  classes = f.read().splitlines()"
      ],
      "execution_count": null,
      "outputs": []
    },
    {
      "cell_type": "code",
      "metadata": {
        "id": "4HbgymMOO_H6"
      },
      "source": [
        "img = cv2.imread('image.jpg')\n",
        "height, width, _ = img.shape"
      ],
      "execution_count": null,
      "outputs": []
    },
    {
      "cell_type": "code",
      "metadata": {
        "id": "7AeENhmfO-9G"
      },
      "source": [
        "blob = cv2.dnn.blobFromImage(img, 1/255, (416, 416), (0,0,0), swapRB = True, crop= False)"
      ],
      "execution_count": null,
      "outputs": []
    },
    {
      "cell_type": "code",
      "metadata": {
        "id": "uenWO9hTQPFE"
      },
      "source": [
        "for b in blob:\n",
        "  for n, img_blob in enumerate(b):\n",
        "    cv2.imshow(str(n), img_blob)"
      ],
      "execution_count": null,
      "outputs": []
    },
    {
      "cell_type": "code",
      "metadata": {
        "id": "ZzV5g2GRQtvl"
      },
      "source": [
        "net.setInput(blob)"
      ],
      "execution_count": null,
      "outputs": []
    },
    {
      "cell_type": "code",
      "metadata": {
        "id": "tjrs7OjdQ4wP"
      },
      "source": [
        "output_layers_names = net.getUnconnectedOutLayersNames()\n",
        "layerOutputs = net.forward(output_layers_names)"
      ],
      "execution_count": null,
      "outputs": []
    },
    {
      "cell_type": "code",
      "metadata": {
        "id": "e32OCCIARQXr"
      },
      "source": [
        "boxes = []\n",
        "confidences = []\n",
        "class_ids = []\n",
        "\n",
        "for output in layerOutputs:\n",
        "  for detection in output:\n",
        "    scores = detection[5:]\n",
        "    class_ids = np.argmax(scores)\n",
        "    confidence = scores[class_id]\n",
        "    if confidence > 0.5:\n",
        "      center_x = int(detection[0* width)\n",
        "      center_y = int(detection[1] * height)\n",
        "      w = int(detection[2] * width)\n",
        "      h = int(detection[3] * height)\n",
        "\n",
        "      x = int(center_x - w/2)\n",
        "      y = int(center_y - h/2)\n",
        "\n",
        "      boxes.append([x, y, w, h])\n",
        "      confidences.append((float(confidence)))\n",
        "      class_ids.append(class_id)\n",
        "\n",
        "print(len(boxes))\n",
        "indexes = cv2.dnn.NMSBoxes(boxes, confidence, 0.5, 0.4)\n",
        "print(indexes.flatten())\n",
        "\n",
        "font = cv2.FONT_HERSHEY_PLAIN\n",
        "colors = np.random.uniform(0, 255, size=(len(boxes), 3))\n",
        "\n",
        "for i in indexes.flatten():\n",
        "  x, y, w, h = boxes[i]\n",
        "  label = str(classes[class_ids[i]])\n",
        "  confidence = str(round(confidences[i], 2))\n",
        "  color = colors[i]\n",
        "  cv2.rectangle(img, (x, y), (x+w, y+h), color, 2)\n",
        "  cv2.putText(img, label, + \" \", confidence, (x, y+20), font, 2, (255, 255,255), 2)\n",
        "  cv.imread('Image', 'img')\n",
        "  \n",
        "cv2.waitKey(0)\n",
        "cv2.destroyAllWindows()"
      ],
      "execution_count": null,
      "outputs": []
    },
    {
      "cell_type": "markdown",
      "metadata": {
        "id": "jfE9VwsbVqMm"
      },
      "source": [
        "FOR VIDEO"
      ]
    },
    {
      "cell_type": "code",
      "metadata": {
        "id": "yidd5LZSVTn6"
      },
      "source": [
        "cap = cv2.imread('test.mp4')\n",
        "\n",
        "while True:\n",
        "  _, img = cap.read()\n",
        "  height, width, _ = img.shape\n",
        "\n",
        "  blob = cv2.dnn.blobFromImage(img, 1/255, (416, 416), (0,0,0), swapRB = True, crop= False)\n",
        "  net.setInput(blob)\n",
        "  output_layers_names = net.getUnconnectedOutLayersNames()\n",
        "  layerOutputs = net.forward(output_layers_names)\n",
        "\n",
        "  boxes = []\n",
        "  confidences = []\n",
        "  class_ids = []\n",
        "\n",
        "for output in layerOutputs:\n",
        "  for detection in output:\n",
        "    scores = detection[5:]\n",
        "    class_ids = np.argmax(scores)\n",
        "    confidence = scores[class_id]\n",
        "    if confidence > 0.5:\n",
        "      center_x = int(detection[0* width)\n",
        "      center_y = int(detection[1] * height)\n",
        "      w = int(detection[2] * width)\n",
        "      h = int(detection[3] * height)\n",
        "\n",
        "      x = int(center_x - w/2)\n",
        "      y = int(center_y - h/2)\n",
        "\n",
        "      boxes.append([x, y, w, h])\n",
        "      confidences.append((float(confidence)))\n",
        "      class_ids.append(class_id)\n",
        "\n",
        "    print(len(boxes))\n",
        "    indexes = cv2.dnn.NMSBoxes(boxes, confidence, 0.5, 0.4)\n",
        "    print(indexes.flatten())\n",
        "\n",
        "    font = cv2.FONT_HERSHEY_PLAIN\n",
        "    colors = np.random.uniform(0, 255, size=(len(boxes), 3))\n",
        "\n",
        "    for i in indexes.flatten():\n",
        "      x, y, w, h = boxes[i]\n",
        "      label = str(classes[class_ids[i]])\n",
        "      confidence = str(round(confidences[i], 2))\n",
        "      color = colors[i]\n",
        "      cv2.rectangle(img, (x, y), (x+w, y+h), color, 2)\n",
        "      cv2.putText(img, label, + \" \", confidence, (x, y+20), font, 2, (255, 255,255), 2)\n",
        "\n",
        "  cv.imread('Image', 'img')\n",
        "  key = cv2.waitKey(1)\n",
        "  if key ==27:\n",
        "    break\n",
        "    \n",
        "cap.release()\n",
        "cv2.destroyAllWindows()\n"
      ],
      "execution_count": null,
      "outputs": []
    },
    {
      "cell_type": "code",
      "metadata": {
        "id": "NWFp98TXO_B-"
      },
      "source": [
        ""
      ],
      "execution_count": null,
      "outputs": []
    },
    {
      "cell_type": "code",
      "metadata": {
        "id": "R8yc3zufO-zN"
      },
      "source": [
        ""
      ],
      "execution_count": null,
      "outputs": []
    },
    {
      "cell_type": "code",
      "metadata": {
        "id": "K8WDZ5SYO-ug"
      },
      "source": [
        ""
      ],
      "execution_count": null,
      "outputs": []
    },
    {
      "cell_type": "code",
      "metadata": {
        "id": "vBxY9V4_O-qf"
      },
      "source": [
        ""
      ],
      "execution_count": null,
      "outputs": []
    },
    {
      "cell_type": "code",
      "metadata": {
        "id": "zIdCQrsPO-jl"
      },
      "source": [
        ""
      ],
      "execution_count": null,
      "outputs": []
    },
    {
      "cell_type": "code",
      "metadata": {
        "id": "KXynua58EMFh"
      },
      "source": [
        ""
      ],
      "execution_count": null,
      "outputs": []
    },
    {
      "cell_type": "code",
      "metadata": {
        "id": "YJh5U4WiE7-J"
      },
      "source": [
        ""
      ],
      "execution_count": null,
      "outputs": []
    },
    {
      "cell_type": "code",
      "metadata": {
        "id": "2IvpramiFA-8"
      },
      "source": [
        ""
      ],
      "execution_count": null,
      "outputs": []
    },
    {
      "cell_type": "code",
      "metadata": {
        "id": "7i-_VPcYFUjx"
      },
      "source": [
        ""
      ],
      "execution_count": null,
      "outputs": []
    },
    {
      "cell_type": "code",
      "metadata": {
        "id": "ysu6tYq9FUfX"
      },
      "source": [
        ""
      ],
      "execution_count": null,
      "outputs": []
    },
    {
      "cell_type": "code",
      "metadata": {
        "id": "K1gBlGrFFUbw"
      },
      "source": [
        ""
      ],
      "execution_count": null,
      "outputs": []
    },
    {
      "cell_type": "code",
      "metadata": {
        "id": "LxZ_mbB7FUYN"
      },
      "source": [
        ""
      ],
      "execution_count": null,
      "outputs": []
    },
    {
      "cell_type": "code",
      "metadata": {
        "id": "LwQnM_BOFUUb"
      },
      "source": [
        ""
      ],
      "execution_count": null,
      "outputs": []
    },
    {
      "cell_type": "code",
      "metadata": {
        "id": "VdGZQlcYFUQ_"
      },
      "source": [
        ""
      ],
      "execution_count": null,
      "outputs": []
    },
    {
      "cell_type": "code",
      "metadata": {
        "id": "1TMuy_KjFUNm"
      },
      "source": [
        ""
      ],
      "execution_count": null,
      "outputs": []
    },
    {
      "cell_type": "code",
      "metadata": {
        "id": "TFHg6uLBFUHo"
      },
      "source": [
        ""
      ],
      "execution_count": null,
      "outputs": []
    }
  ]
}